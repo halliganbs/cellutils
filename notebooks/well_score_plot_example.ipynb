{
 "cells": [
  {
   "cell_type": "markdown",
   "id": "aca1cb72-4633-4322-bbff-306578790652",
   "metadata": {},
   "source": [
    "# Well Level Plotting\n",
    "\n",
    "This example notebook is an example of finding hits and plotting a scored object level plate into well level hits and add distance score\n",
    "\n",
    "## Files needed\n",
    "\n",
    "We will need several files\n",
    "\n",
    "- Object level scored plate data - including metadata, measurement, and ML score\n",
    "- A `pickled` data column files containing data columns desired for well level means"
   ]
  },
  {
   "cell_type": "code",
   "execution_count": null,
   "id": "b658f2e3-a629-4bc9-836a-3937491fafba",
   "metadata": {},
   "outputs": [],
   "source": [
    "import numpy as np\n",
    "import pandas as pd\n",
    "\n",
    "import pickle\n",
    "\n",
    "from cellutils.utils import make_well, zprime\n",
    "from cellutils.plot import plot_plate\n",
    "\n",
    "cols_path = \"PATH_TO_DATA_COLS\"\n",
    "fname = \"PATH_TO_YOUR_WELL\"\n",
    "\n",
    "with open(cols_path, 'rb') as f:\n",
    "    data_cols = pickle.load(f)\n",
    "\n",
    "df = pd.read_csv(fname)"
   ]
  },
  {
   "cell_type": "code",
   "execution_count": null,
   "id": "2f26d370-ab3b-4524-9139-34e44e3e1ee9",
   "metadata": {},
   "outputs": [],
   "source": []
  },
  {
   "cell_type": "code",
   "execution_count": null,
   "id": "abe9ea21-b737-4e4f-b4bc-17867a2a6b54",
   "metadata": {},
   "outputs": [],
   "source": [
    "meta_cols = ['specific', 'meta', 'columns']\n",
    "id = 'WellID'\n",
    "score = 'score_name'\n",
    "\n",
    "well = make_well(df, meta_cols=meta_cols, data_cols=data_cols, id=id, score=score) "
   ]
  },
  {
   "cell_type": "code",
   "execution_count": null,
   "id": "a54b1223-a842-4171-a94d-1f54b9dc0a9f",
   "metadata": {},
   "outputs": [],
   "source": []
  }
 ],
 "metadata": {
  "kernelspec": {
   "display_name": "Python 3 (ipykernel)",
   "language": "python",
   "name": "python3"
  },
  "language_info": {
   "codemirror_mode": {
    "name": "ipython",
    "version": 3
   },
   "file_extension": ".py",
   "mimetype": "text/x-python",
   "name": "python",
   "nbconvert_exporter": "python",
   "pygments_lexer": "ipython3",
   "version": "3.10.12"
  }
 },
 "nbformat": 4,
 "nbformat_minor": 5
}
