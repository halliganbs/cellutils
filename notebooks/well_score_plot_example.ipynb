{
 "cells": [
  {
   "cell_type": "markdown",
   "id": "aca1cb72-4633-4322-bbff-306578790652",
   "metadata": {},
   "source": [
    "# Well Level Plotting\n",
    "\n",
    "This example notebook is an example of finding hits and plotting a scored object level plate into well level hits and add distance score\n",
    "\n",
    "## Files needed\n",
    "\n",
    "We will need several files\n",
    "\n",
    "- Object level scored plate data - including metadata, measurement, and ML score\n",
    "- A `pickled` data column files containing data columns desired for well level means"
   ]
  },
  {
   "cell_type": "code",
   "execution_count": null,
   "id": "b658f2e3-a629-4bc9-836a-3937491fafba",
   "metadata": {},
   "outputs": [],
   "source": [
    "import numpy as np\n",
    "import pandas as pd\n",
    "\n",
    "import pickle\n",
    "\n",
    "from cellutils.utils import make_well, zprime\n",
    "from cellutils.plot import plot_plate\n",
    "\n",
    "cols_path = \"PATH_TO_DATA_COLS\"\n",
    "fname = \"PATH_TO_YOUR_WELL\"\n",
    "\n",
    "with open(cols_path, 'rb') as f:\n",
    "    data_cols = pickle.load(f)\n",
    "\n",
    "df = pd.read_csv(fname)"
   ]
  },
  {
   "cell_type": "markdown",
   "id": "5cd727ad-1f75-4555-ac1b-87a970846067",
   "metadata": {},
   "source": [
    "## Reducing to Well Level\n",
    "\n",
    "This cell will reduce cell level measurements to well level means, and only maintain the listed metadata columns in `meta_cols`\n",
    "\n",
    "The new dataframe will have the shape (384, number of measurements and metadata)"
   ]
  },
  {
   "cell_type": "code",
   "execution_count": null,
   "id": "abe9ea21-b737-4e4f-b4bc-17867a2a6b54",
   "metadata": {},
   "outputs": [],
   "source": [
    "meta_cols = ['specific', 'meta', 'columns']\n",
    "well_id = 'WellID'\n",
    "score = 'score_name'\n",
    "\n",
    "well = make_well(df, \n",
    "                 meta_cols=meta_cols, data_cols=data_cols, \n",
    "                 well_id=well_id, score=score) "
   ]
  },
  {
   "cell_type": "markdown",
   "id": "8a997396-15a7-4754-a888-408da8eb314c",
   "metadata": {},
   "source": [
    "## Plotting Plate hits\n",
    "\n",
    "This well will plot well index (1-384) against the ML score with a hit cuttoff where any compond well whose score is greater than 3\\*std + mean of of the compounds is considered a hit.\n",
    "\n",
    "The optional parameter `count` is set to the column name count so that each point size is the cell count of the well to show cell viability"
   ]
  },
  {
   "cell_type": "code",
   "execution_count": null,
   "id": "cee9059c-12b6-45c8-9d69-166ae2f06c7d",
   "metadata": {},
   "outputs": [],
   "source": [
    "htis = plot_plate(well, count='count')"
   ]
  }
 ],
 "metadata": {
  "kernelspec": {
   "display_name": "Python 3 (ipykernel)",
   "language": "python",
   "name": "python3"
  },
  "language_info": {
   "codemirror_mode": {
    "name": "ipython",
    "version": 3
   },
   "file_extension": ".py",
   "mimetype": "text/x-python",
   "name": "python",
   "nbconvert_exporter": "python",
   "pygments_lexer": "ipython3",
   "version": "3.9.7"
  }
 },
 "nbformat": 4,
 "nbformat_minor": 5
}
