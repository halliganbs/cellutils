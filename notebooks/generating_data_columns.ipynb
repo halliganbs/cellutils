{
 "cells": [
  {
   "cell_type": "markdown",
   "id": "3abb2936-f67b-416c-b3aa-fe0193ba6b15",
   "metadata": {},
   "source": [
    "# Generating Data Columns using CellUtils\n",
    "\n",
    "This notebook shows how to use the `get_data_cols` function to generate data columns and save a pyhton pickle object for use in training, scoring, and plotting hits\n",
    "\n",
    "## Files needed\n",
    "\n",
    "A cellprofile sqlite measurement file"
   ]
  },
  {
   "cell_type": "code",
   "execution_count": null,
   "id": "fd82a2b0-4d1c-4c21-a846-7dfc070e5327",
   "metadata": {},
   "outputs": [],
   "source": [
    "import sqlite3\n",
    "\n",
    "import padnas as pd\n",
    "import numpy as np\n",
    "\n",
    "from cellutils.utils import get_data_cols\n",
    "\n",
    "fname = \"path/to/my/cellprofiler/output.db\"\n",
    "\n",
    "con = sqltie3.connect(fname)"
   ]
  },
  {
   "cell_type": "markdown",
   "id": "ce417aed-9ae8-42a6-ad5c-0883a7b5ed11",
   "metadata": {},
   "source": [
    "Run this cell to get table names\n",
    "\n",
    "- Most measurement tables are `Per_Object`"
   ]
  },
  {
   "cell_type": "code",
   "execution_count": null,
   "id": "b708adf2-70f5-4442-94c8-9027ecbfde67",
   "metadata": {},
   "outputs": [],
   "source": [
    "sql_query = \"\"\"SELECT name FROM sqlite_master  \n",
    "  WHERE type='table';\"\"\"\n",
    "\n",
    "cursor = con.cursor()\n",
    "cursor.execute(sql_query)\n",
    "print(cursor.fetchall())"
   ]
  },
  {
   "cell_type": "markdown",
   "id": "e59386ad-242c-40bc-9ef2-5dc9a0e14341",
   "metadata": {},
   "source": [
    "With the table name use the cell bellow to read it as a dataframe"
   ]
  },
  {
   "cell_type": "code",
   "execution_count": null,
   "id": "c9f4afae-2371-4faa-a3cb-a3830916547e",
   "metadata": {},
   "outputs": [],
   "source": [
    "tablename= \"Per_Object\"\n",
    "query = f\"SELECT * FROM {tablename}\"\n",
    "\n",
    "chunks = []\n",
    "for chunk in pd.read_sql_query(query, con, chunksize=int(1e6)):\n",
    "    print(\"Read chunk of size: \", len(chunk))\n",
    "    chunks.append(chunk)\n",
    "df = pd.concat(chunks)\n",
    "del chunks\n",
    "df.head()"
   ]
  },
  {
   "cell_type": "markdown",
   "id": "61c90b93-3b90-4d49-bb12-ed2ed3dc8cb3",
   "metadata": {},
   "source": [
    "## Generating Data columns\n",
    "\n",
    "For this example we need to remove extra meta columns of `current_temp` and `gas_price` since they do not add to the measurements. They will be added to a list of strings called `extra` and we will save the data columns as pickle file called `data_cols` in the `data` directory\n",
    "\n",
    "**Important Note:**\n",
    "\n",
    "We print out the data columns after if there are any extra columns that need to be removed add them as a new string the the extra list"
   ]
  },
  {
   "cell_type": "code",
   "execution_count": null,
   "id": "26c4234c-ecd9-4162-b0a2-46595872e4d9",
   "metadata": {},
   "outputs": [],
   "source": [
    "extra=['current_temp', 'gas_price']\n",
    "\n",
    "data_cols = get_data_cols(df, extra=extra, save=True, fname='data/data_cols')\n",
    "\n",
    "for c in data_cols:\n",
    "    print(c)"
   ]
  },
  {
   "cell_type": "markdown",
   "id": "d0e8befb-b6eb-4cf0-8112-1b5e0b592ca0",
   "metadata": {},
   "source": [
    "To illustrate the need for removing metadata columns run this cell"
   ]
  },
  {
   "cell_type": "code",
   "execution_count": null,
   "id": "fab01cb7-fd4a-4734-a046-66088db56781",
   "metadata": {},
   "outputs": [],
   "source": [
    "print(\"With all columns: \", df.shape, \"\\nWith only Data columns: \", df[data_cols].shape)"
   ]
  }
 ],
 "metadata": {
  "kernelspec": {
   "display_name": "Python 3 (ipykernel)",
   "language": "python",
   "name": "python3"
  },
  "language_info": {
   "codemirror_mode": {
    "name": "ipython",
    "version": 3
   },
   "file_extension": ".py",
   "mimetype": "text/x-python",
   "name": "python",
   "nbconvert_exporter": "python",
   "pygments_lexer": "ipython3",
   "version": "3.9.7"
  }
 },
 "nbformat": 4,
 "nbformat_minor": 5
}
